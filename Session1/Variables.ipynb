{
  "cells": [
    {
      "metadata": {},
      "cell_type": "markdown",
      "source": "Variable/Object reference"
    },
    {
      "metadata": {},
      "cell_type": "markdown",
      "source": "In Python variables work more like tags. When you do an assignment in Python, it tags the value with the variable name."
    },
    {
      "metadata": {
        "collapsed": true,
        "trusted": false
      },
      "cell_type": "code",
      "source": "a = 1",
      "execution_count": 1,
      "outputs": []
    },
    {
      "metadata": {},
      "cell_type": "markdown",
      "source": "When Python executes a = 1, it creates int object and creates an object reference called a,\nwe can say that variable a has been assigned int 1.\nThe = operator binds an object in a memory."
    },
    {
      "metadata": {
        "collapsed": true,
        "trusted": false
      },
      "cell_type": "code",
      "source": "a = 2",
      "execution_count": 2,
      "outputs": []
    },
    {
      "metadata": {},
      "cell_type": "markdown",
      "source": "If you change the value of the varaible, it just changes the tag to the new value in memory. "
    },
    {
      "metadata": {},
      "cell_type": "markdown",
      "source": "When a value is without names/tags it is automatically removed from memory by Python's Automatic Garbage Collection."
    },
    {
      "metadata": {
        "collapsed": true,
        "trusted": false
      },
      "cell_type": "code",
      "source": "b = a",
      "execution_count": 3,
      "outputs": []
    },
    {
      "metadata": {},
      "cell_type": "markdown",
      "source": "Assigning one variable to another makes a new tag bound to the same value.\nIf object rereference already exists, it is simply\nre-bound to refer to the object on the right of the right of the = operator."
    },
    {
      "metadata": {},
      "cell_type": "markdown",
      "source": "If object reference does not exist, it is created by the = operator"
    },
    {
      "metadata": {},
      "cell_type": "markdown",
      "source": "A value will have only one copy in memory and all the variables having this value will refer to this memory location. "
    },
    {
      "metadata": {},
      "cell_type": "markdown",
      "source": "For example when you have variables a, b, c having a value 10, it doesn't mean that there will be 3 copy of 10s in memory. There will be only one 10 and all the variables a, b, c will point to this value. "
    },
    {
      "metadata": {
        "trusted": false
      },
      "cell_type": "code",
      "source": "'''\nid() will return an objects memory address \n(object's identity).\n'''\na = 10\nid(a)",
      "execution_count": 8,
      "outputs": [
        {
          "data": {
            "text/plain": "4297148816"
          },
          "execution_count": 8,
          "metadata": {},
          "output_type": "execute_result"
        }
      ]
    },
    {
      "metadata": {
        "trusted": false
      },
      "cell_type": "code",
      "source": "b = 10\nid(b)",
      "execution_count": 9,
      "outputs": [
        {
          "data": {
            "text/plain": "4297148816"
          },
          "execution_count": 9,
          "metadata": {},
          "output_type": "execute_result"
        }
      ]
    },
    {
      "metadata": {
        "trusted": false
      },
      "cell_type": "code",
      "source": "c = 10\nid(c)",
      "execution_count": 10,
      "outputs": [
        {
          "data": {
            "text/plain": "4297148816"
          },
          "execution_count": 10,
          "metadata": {},
          "output_type": "execute_result"
        }
      ]
    },
    {
      "metadata": {},
      "cell_type": "markdown",
      "source": "Once a variable is updated, say you are doing a += 1 a new value 11 will be allocated in memory and a will be pointing to this."
    },
    {
      "metadata": {
        "trusted": false
      },
      "cell_type": "code",
      "source": "a +=1\nid(a)",
      "execution_count": 11,
      "outputs": [
        {
          "data": {
            "text/plain": "4297148848"
          },
          "execution_count": 11,
          "metadata": {},
          "output_type": "execute_result"
        }
      ]
    },
    {
      "metadata": {
        "trusted": false
      },
      "cell_type": "code",
      "source": "a",
      "execution_count": 12,
      "outputs": [
        {
          "data": {
            "text/plain": "11"
          },
          "execution_count": 12,
          "metadata": {},
          "output_type": "execute_result"
        }
      ]
    },
    {
      "metadata": {},
      "cell_type": "markdown",
      "source": "Python implementation keeps an array of integer objects for all integers between -5 and 256. So when we create an integer in that range, they simply back reference to the existing object."
    },
    {
      "metadata": {},
      "cell_type": "markdown",
      "source": "Let's take a look at strings now."
    },
    {
      "metadata": {
        "trusted": false
      },
      "cell_type": "code",
      "source": "s1 = 'apple'\ns2 = 'apple'\nid(s1), id(s2)\n",
      "execution_count": 15,
      "outputs": [
        {
          "data": {
            "text/plain": "(4368563368, 4368563368)"
          },
          "execution_count": 15,
          "metadata": {},
          "output_type": "execute_result"
        }
      ]
    },
    {
      "metadata": {},
      "cell_type": "markdown",
      "source": "When the strings are simple and short variable names are referring to the same object in memory. "
    },
    {
      "metadata": {
        "trusted": false
      },
      "cell_type": "code",
      "source": "s1 == s2",
      "execution_count": 16,
      "outputs": [
        {
          "data": {
            "text/plain": "True"
          },
          "execution_count": 16,
          "metadata": {},
          "output_type": "execute_result"
        }
      ]
    },
    {
      "metadata": {
        "trusted": false
      },
      "cell_type": "code",
      "source": "s3 = 'hello, world!'\ns4 = 'hello, world!'\ns3 == s4",
      "execution_count": 17,
      "outputs": [
        {
          "data": {
            "text/plain": "True"
          },
          "execution_count": 17,
          "metadata": {},
          "output_type": "execute_result"
        }
      ]
    },
    {
      "metadata": {
        "trusted": false
      },
      "cell_type": "code",
      "source": "id(s3), id(s4)",
      "execution_count": 18,
      "outputs": [
        {
          "data": {
            "text/plain": "(4368630832, 4368631984)"
          },
          "execution_count": 18,
          "metadata": {},
          "output_type": "execute_result"
        }
      ]
    },
    {
      "metadata": {},
      "cell_type": "markdown",
      "source": "This is called interning, and Python does interning (to some extent) of shorter string literals (as in s1 and s2) which are created at compile time. But in general, Python string literals creates a new string object each time (as in s3 and s4). Interning is runtime dependant and is always a trade-off between memory use and the cost of checking if you are creating the same string. "
    },
    {
      "metadata": {
        "trusted": false
      },
      "cell_type": "code",
      "source": "s1[0]",
      "execution_count": 19,
      "outputs": [
        {
          "data": {
            "text/plain": "'a'"
          },
          "execution_count": 19,
          "metadata": {},
          "output_type": "execute_result"
        }
      ]
    },
    {
      "metadata": {
        "trusted": false
      },
      "cell_type": "code",
      "source": "s1[0] = \"A\"",
      "execution_count": 20,
      "outputs": [
        {
          "ename": "TypeError",
          "evalue": "'str' object does not support item assignment",
          "output_type": "error",
          "traceback": [
            "\u001b[0;31m---------------------------------------------------------------------------\u001b[0m",
            "\u001b[0;31mTypeError\u001b[0m                                 Traceback (most recent call last)",
            "\u001b[0;32m<ipython-input-20-0a25e79862bf>\u001b[0m in \u001b[0;36m<module>\u001b[0;34m()\u001b[0m\n\u001b[0;32m----> 1\u001b[0;31m \u001b[0ms1\u001b[0m\u001b[0;34m[\u001b[0m\u001b[0;36m0\u001b[0m\u001b[0;34m]\u001b[0m \u001b[0;34m=\u001b[0m \u001b[0;34m\"A\"\u001b[0m\u001b[0;34m\u001b[0m\u001b[0m\n\u001b[0m",
            "\u001b[0;31mTypeError\u001b[0m: 'str' object does not support item assignment"
          ]
        }
      ]
    },
    {
      "metadata": {},
      "cell_type": "markdown",
      "source": "strings are immutable"
    },
    {
      "metadata": {
        "trusted": false
      },
      "cell_type": "code",
      "source": "s1.upper()",
      "execution_count": 22,
      "outputs": [
        {
          "data": {
            "text/plain": "'APPLE'"
          },
          "execution_count": 22,
          "metadata": {},
          "output_type": "execute_result"
        }
      ]
    },
    {
      "metadata": {
        "collapsed": true,
        "trusted": false
      },
      "cell_type": "code",
      "source": "a = 7\nb = '7'",
      "execution_count": 23,
      "outputs": []
    },
    {
      "metadata": {
        "trusted": false
      },
      "cell_type": "code",
      "source": "total = a + b",
      "execution_count": 24,
      "outputs": [
        {
          "ename": "TypeError",
          "evalue": "unsupported operand type(s) for +: 'int' and 'str'",
          "output_type": "error",
          "traceback": [
            "\u001b[0;31m---------------------------------------------------------------------------\u001b[0m",
            "\u001b[0;31mTypeError\u001b[0m                                 Traceback (most recent call last)",
            "\u001b[0;32m<ipython-input-24-877840a107b4>\u001b[0m in \u001b[0;36m<module>\u001b[0;34m()\u001b[0m\n\u001b[0;32m----> 1\u001b[0;31m \u001b[0mtotal\u001b[0m \u001b[0;34m=\u001b[0m \u001b[0ma\u001b[0m \u001b[0;34m+\u001b[0m \u001b[0mb\u001b[0m\u001b[0;34m\u001b[0m\u001b[0m\n\u001b[0m",
            "\u001b[0;31mTypeError\u001b[0m: unsupported operand type(s) for +: 'int' and 'str'"
          ]
        }
      ]
    },
    {
      "metadata": {
        "trusted": false
      },
      "cell_type": "code",
      "source": "total = a + int(b)\ntotal",
      "execution_count": 25,
      "outputs": [
        {
          "data": {
            "text/plain": "14"
          },
          "execution_count": 25,
          "metadata": {},
          "output_type": "execute_result"
        }
      ]
    },
    {
      "metadata": {
        "trusted": false
      },
      "cell_type": "code",
      "source": "type(total)",
      "execution_count": 26,
      "outputs": [
        {
          "data": {
            "text/plain": "int"
          },
          "execution_count": 26,
          "metadata": {},
          "output_type": "execute_result"
        }
      ]
    },
    {
      "metadata": {},
      "cell_type": "markdown",
      "source": "The type() function returns the data type of the data item"
    },
    {
      "metadata": {
        "trusted": false
      },
      "cell_type": "code",
      "source": "total = str(a) + b\ntotal",
      "execution_count": 27,
      "outputs": [
        {
          "data": {
            "text/plain": "'77'"
          },
          "execution_count": 27,
          "metadata": {},
          "output_type": "execute_result"
        }
      ]
    },
    {
      "metadata": {},
      "cell_type": "markdown",
      "source": "Since strings can't be changed, we construct new strings as we go to represent computed values."
    },
    {
      "metadata": {
        "trusted": false
      },
      "cell_type": "code",
      "source": "type(total)",
      "execution_count": 28,
      "outputs": [
        {
          "data": {
            "text/plain": "str"
          },
          "execution_count": 28,
          "metadata": {},
          "output_type": "execute_result"
        }
      ]
    },
    {
      "metadata": {},
      "cell_type": "markdown",
      "source": "Python is dynamically typed language.  \"Typing\" refers to \"type\" as in data type. Dynamic typed languages DO NOT requere the explicit declaration of the variables before they used. "
    },
    {
      "metadata": {},
      "cell_type": "markdown",
      "source": "In Python type checking is done at run time vs static languages - done at complete time."
    },
    {
      "metadata": {},
      "cell_type": "markdown",
      "source": "In Python you can assign any kind of data to any variable."
    },
    {
      "metadata": {
        "collapsed": true,
        "trusted": false
      },
      "cell_type": "code",
      "source": "",
      "execution_count": null,
      "outputs": []
    }
  ],
  "metadata": {
    "kernelspec": {
      "name": "python3",
      "display_name": "Python 3",
      "language": "python"
    },
    "language_info": {
      "mimetype": "text/x-python",
      "nbconvert_exporter": "python",
      "name": "python",
      "file_extension": ".py",
      "version": "3.5.4",
      "pygments_lexer": "ipython3",
      "codemirror_mode": {
        "version": 3,
        "name": "ipython"
      }
    }
  },
  "nbformat": 4,
  "nbformat_minor": 2
}