{
  "cells": [
    {
      "metadata": {},
      "cell_type": "markdown",
      "source": "Decision Structures"
    },
    {
      "metadata": {
        "trusted": false
      },
      "cell_type": "code",
      "source": "temperature = float(input('What is the temperature? '))\n",
      "execution_count": 2,
      "outputs": [
        {
          "name": "stdout",
          "output_type": "stream",
          "text": "What is the temperature? 90\n"
        }
      ]
    },
    {
      "metadata": {
        "trusted": false
      },
      "cell_type": "code",
      "source": "# Code blocks are defined by their indentation\n# All statements with the same distance to the right \n# belong to the same block of code\nif temperature > 70:\n    print('Wear shorts.')\nelse:\n    print('Wear long pants.')",
      "execution_count": 4,
      "outputs": [
        {
          "name": "stdout",
          "output_type": "stream",
          "text": "Wear shorts.\n"
        }
      ]
    },
    {
      "metadata": {},
      "cell_type": "markdown",
      "source": "Relational operators"
    },
    {
      "metadata": {},
      "cell_type": "markdown",
      "source": "```\n<  less than\n<= less than or equal to\n== equal to\n>= greater than or equal to\n>  greater than\n!= not equal to\n```"
    },
    {
      "metadata": {
        "trusted": false
      },
      "cell_type": "code",
      "source": "temperature = float(input('What is the temperature? '))\nif temperature > 70:\n    print('Wear shorts.')\nelif temperature == 70:\n    print(\"Go either way\")\nelse:\n    print('Wear long pants.')",
      "execution_count": 3,
      "outputs": [
        {
          "name": "stdout",
          "output_type": "stream",
          "text": "What is the temperature? 70\nGo either way\n"
        }
      ]
    },
    {
      "metadata": {},
      "cell_type": "markdown",
      "source": "If, elif and else are keywords in Python.\n\nA condition is a test for something ( is x less than y, is x == y etc. )\n\nThe colon (:) at the end of the if line is required. \n\nStatements are instructions to follow if the condition is true. \n\nThese statements must be indented and is only being run when the if condition\nis met. "
    },
    {
      "metadata": {},
      "cell_type": "markdown",
      "source": "If vs Elif."
    },
    {
      "metadata": {},
      "cell_type": "markdown",
      "source": "Multiple if's means your code would go and check all the if conditions, where as in case of elif, if one if condition satisfies it would not check other conditions."
    },
    {
      "metadata": {
        "trusted": false
      },
      "cell_type": "code",
      "source": "age =18\n\nif age < 21:\n    print (\"You are a child\")\nif age > 21:\n    print (\"You are an adult\")\nelse:   #Handle all cases were 'age' is negative \n    print (\"The age must be a positive integer!\")\n",
      "execution_count": 7,
      "outputs": [
        {
          "name": "stdout",
          "output_type": "stream",
          "text": "You are a child\nThe age must be a positive integer!\n"
        }
      ]
    },
    {
      "metadata": {},
      "cell_type": "markdown",
      "source": "Here you can see that when 18 is used as input the answer is (surprisingly) 2 sentences. That is wrong. It should only be the first sentence.\n\nThat is because BOTH if statements are being evaluated. The computer sees them as two separate statements:\n\nThe first one is true for 18 and so \"You are a child\" is printed.\nThe second if statement is false and therefore the else part is executed printing \"The age must be a positive integer\".\nThe elif fixes this and makes the two if statements 'stick together' as one:\n\n"
    },
    {
      "metadata": {
        "trusted": false
      },
      "cell_type": "code",
      "source": "age =18\n\nif age < 21:\n    print (\"You are a child\")\nelif age > 21:\n    print (\"You are an adult\")\nelse:   #Handle all cases were 'age' is negative \n    print (\"The age must be a positive integer!\")\n",
      "execution_count": 5,
      "outputs": [
        {
          "name": "stdout",
          "output_type": "stream",
          "text": "You are a child\n"
        }
      ]
    },
    {
      "metadata": {},
      "cell_type": "markdown",
      "source": "Max of Three"
    },
    {
      "metadata": {},
      "cell_type": "markdown",
      "source": "Suppose we need an algorithm to find the largest of three numbers."
    },
    {
      "metadata": {
        "trusted": false
      },
      "cell_type": "code",
      "source": "x1, x2, x3 = int(input(\"please enter x1: \")), int(input(\"and x2: \")), int(input(\"and x3: \"))\nprint(x1)",
      "execution_count": 8,
      "outputs": [
        {
          "name": "stdout",
          "output_type": "stream",
          "text": "please enter x1: 5\nand x2: 3\nand x3: 2\n5\n"
        }
      ]
    },
    {
      "metadata": {
        "collapsed": true,
        "trusted": false
      },
      "cell_type": "code",
      "source": "# x, y = [int(x) for x in input().split()]  \n# print(x)",
      "execution_count": null,
      "outputs": []
    },
    {
      "metadata": {},
      "cell_type": "markdown",
      "source": "Strategy 1. Compare Each to All."
    },
    {
      "metadata": {},
      "cell_type": "markdown",
      "source": "Let's consider the first probability, that x1 is the largest."
    },
    {
      "metadata": {
        "collapsed": true,
        "trusted": false
      },
      "cell_type": "code",
      "source": "if x1 >= x2 >= x3:\n    maxval = x1\n    print(\"True\")\nelse:\n    print(\"False\")",
      "execution_count": null,
      "outputs": []
    },
    {
      "metadata": {},
      "cell_type": "markdown",
      "source": "Are we certain that this condition is True in all cases where x1 is the max? What if x1=5, x2=2, x3=4?"
    },
    {
      "metadata": {},
      "cell_type": "markdown",
      "source": "Python allows us to test multiple conditions by combining them with the keyword and."
    },
    {
      "metadata": {
        "collapsed": true,
        "trusted": false
      },
      "cell_type": "code",
      "source": "if x1 >= x2 and x1 >= x3:\n    maxval = x1\nelif x2 >= x1 and x2 >= x3:\n    maxval = x2\nelse:\n    maxval = x3\nprint(maxval)",
      "execution_count": null,
      "outputs": []
    },
    {
      "metadata": {},
      "cell_type": "markdown",
      "source": "Strategy 2. Decision Tree."
    },
    {
      "metadata": {},
      "cell_type": "markdown",
      "source": "![title](img/fl.png)"
    },
    {
      "metadata": {
        "collapsed": true,
        "trusted": false
      },
      "cell_type": "code",
      "source": "if x1 >= x2:\n    if x1 >= x3:\n        maxval = x1\n    else:\n        maxval = x3\nelse:\n    if x2 > x3:\n        maxval = x2\n    else:\n        maxval = x3\n        \nprint(maxval)",
      "execution_count": null,
      "outputs": []
    },
    {
      "metadata": {},
      "cell_type": "markdown",
      "source": "The strenght of this approach is its efficience, No matter what the ordering of the three values, this algorithm will make exactly two comparisons and assign the correct value to maxval."
    },
    {
      "metadata": {},
      "cell_type": "markdown",
      "source": "Strategy 3. Sequential Processing."
    },
    {
      "metadata": {},
      "cell_type": "markdown",
      "source": "![title](img/seq.png)"
    },
    {
      "metadata": {},
      "cell_type": "markdown",
      "source": "Sequential approach is to scan through the numbers until you find a big one."
    },
    {
      "metadata": {
        "collapsed": true,
        "trusted": false
      },
      "cell_type": "code",
      "source": "maxval = x1\nif x2 > maxval:\n    maxval = x2\nif x3 > maxval:\n    maxval = x3\n\nprint(maxval)",
      "execution_count": null,
      "outputs": []
    },
    {
      "metadata": {},
      "cell_type": "markdown",
      "source": "Claerly, the sequential approach is the best of our three algorithms."
    },
    {
      "metadata": {
        "collapsed": true,
        "trusted": false
      },
      "cell_type": "code",
      "source": "",
      "execution_count": null,
      "outputs": []
    }
  ],
  "metadata": {
    "kernelspec": {
      "name": "python36",
      "display_name": "Python 3.6",
      "language": "python"
    },
    "language_info": {
      "mimetype": "text/x-python",
      "nbconvert_exporter": "python",
      "name": "python",
      "pygments_lexer": "ipython3",
      "version": "3.6.6",
      "file_extension": ".py",
      "codemirror_mode": {
        "version": 3,
        "name": "ipython"
      }
    }
  },
  "nbformat": 4,
  "nbformat_minor": 2
}