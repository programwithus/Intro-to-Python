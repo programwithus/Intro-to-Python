{
  "cells": [
    {
      "metadata": {},
      "cell_type": "markdown",
      "source": "Main Built-in Data types.\nPython's built-in data types can be grouped into several classes. \n\nboolean: \n\nthe type of the built-in values True and False. Useful in conditional expressions, and anywhere else you want to represent the truth or falsity of some condition. \n\nNumeric types:\n\nint: Integers - non-limited length in Python 3.x\nfloat: Floating-Point numbers\n\nSequences:\n\nstr: String is  a sequence of Unicode characters (in the range of U+0000 - U+10FFFF) in Python 3.x\n\nlist: List is a Generic data structure to store a collection of items.\n\ntuple: Tuples are used for grouping data.\n\nSets:\n\nset: an unordered collection of unique objects; \n\nMappings:\n\ndict: Python dictionaries, also called hashmaps or associative arrays, which means that an element of the list is associated with a definition."
    },
    {
      "metadata": {
        "collapsed": true
      },
      "cell_type": "markdown",
      "source": "```\nData Type    Object Type\nint\t         Immutable\nfloat\t     Immutable\ndouble\t     Immutable\nstr\t         Immutable\nbool\t     Immutable\ncomplex\t     Immutable\ntuple\t     Immutable\nlist\t     Mutable\nset\t         Mutable\ndict\t     Mutable\n```"
    },
    {
      "metadata": {
        "trusted": true
      },
      "cell_type": "code",
      "source": "",
      "execution_count": null,
      "outputs": []
    }
  ],
  "metadata": {
    "kernelspec": {
      "display_name": "Python [conda root]",
      "language": "python",
      "name": "conda-root-py"
    },
    "language_info": {
      "codemirror_mode": {
        "name": "ipython",
        "version": 3
      },
      "file_extension": ".py",
      "mimetype": "text/x-python",
      "name": "python",
      "nbconvert_exporter": "python",
      "pygments_lexer": "ipython3",
      "version": "3.5.4"
    }
  },
  "nbformat": 4,
  "nbformat_minor": 2
}