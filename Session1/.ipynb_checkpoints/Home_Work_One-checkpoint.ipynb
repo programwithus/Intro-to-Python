{
 "cells": [
  {
   "cell_type": "markdown",
   "metadata": {},
   "source": [
    "# Home Work One"
   ]
  },
  {
   "cell_type": "markdown",
   "metadata": {},
   "source": [
    "Built-in Functions"
   ]
  },
  {
   "cell_type": "markdown",
   "metadata": {},
   "source": [
    "https://docs.python.org/3/library/functions.html"
   ]
  },
  {
   "cell_type": "markdown",
   "metadata": {},
   "source": [
    "https://www.w3schools.com/python/python_ref_functions.asp"
   ]
  },
  {
   "cell_type": "markdown",
   "metadata": {},
   "source": [
    "https://www.programiz.com/python-programming/methods/built-in"
   ]
  },
  {
   "cell_type": "markdown",
   "metadata": {},
   "source": [
    "Exercises "
   ]
  },
  {
   "cell_type": "markdown",
   "metadata": {},
   "source": [
    "Exercise 1."
   ]
  },
  {
   "cell_type": "markdown",
   "metadata": {},
   "source": [
    "Pretend that you have just opened a new savings account that earns 4 percent interest\n",
    "per year. The interest that you earn is paid at the end of the year, and is added\n",
    "to the balance of the savings account. Write a program that begins by reading the\n",
    "amount of money deposited into the account from the user. Then your program should\n",
    "compute and display the amount in the savings account after 1, 2, and 3 years. Display\n",
    "each amount so that it is rounded to 2 decimal places."
   ]
  },
  {
   "cell_type": "markdown",
   "metadata": {},
   "source": [
    "```\n",
    "Compound Interest = P(1 + R/100)r\n",
    "```"
   ]
  },
  {
   "cell_type": "markdown",
   "metadata": {},
   "source": [
    "Exercise 2."
   ]
  },
  {
   "cell_type": "markdown",
   "metadata": {},
   "source": [
    "```\n",
    "Create a Temperature converter, Celsius to Fahrenheit:\n",
    "0 degrees Celsius is equal to 32 degrees Fahrenheit:\n",
    "0 °C = 32 °F\n",
    "The temperature T in degrees Fahrenheit (°F) is equal to the temperature T in degrees Celsius (°C) times 9/5 plus 32:\n",
    "T(°F) = T(°C) × 9/5 + 32\n",
    "\n",
    "Example:\n",
    "Convert 20 degrees Celsius to degrees Fahrenheit:\n",
    "T(°F) = 20°C × 9/5 + 32 = 68 °F\n",
    "```"
   ]
  },
  {
   "cell_type": "markdown",
   "metadata": {},
   "source": [
    "Exercise 3."
   ]
  },
  {
   "cell_type": "markdown",
   "metadata": {},
   "source": [
    "Our address is \"115 W 30th St., 5th Floor, Suite 501, New York, NY, 12345\""
   ]
  },
  {
   "cell_type": "markdown",
   "metadata": {},
   "source": [
    "```\n",
    "slice out of the string:\n",
    "\n",
    "zip code\n",
    "city\n",
    "Suite number\n",
    "reverse the whole string\n",
    "```"
   ]
  },
  {
   "cell_type": "markdown",
   "metadata": {},
   "source": [
    "Exercise 4."
   ]
  },
  {
   "cell_type": "markdown",
   "metadata": {},
   "source": [
    "Write a program that reads an integer from the user. Then your program should display a message indicating whether the integer is positive or negative."
   ]
  },
  {
   "cell_type": "code",
   "execution_count": null,
   "metadata": {},
   "outputs": [],
   "source": []
  }
 ],
 "metadata": {
  "kernelspec": {
   "display_name": "Python 3",
   "language": "python",
   "name": "python3"
  },
  "language_info": {
   "codemirror_mode": {
    "name": "ipython",
    "version": 3
   },
   "file_extension": ".py",
   "mimetype": "text/x-python",
   "name": "python",
   "nbconvert_exporter": "python",
   "pygments_lexer": "ipython3",
   "version": "3.8.3"
  }
 },
 "nbformat": 4,
 "nbformat_minor": 2
}
